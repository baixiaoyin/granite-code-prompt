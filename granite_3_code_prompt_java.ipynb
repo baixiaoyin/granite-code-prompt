{
 "cells": [
  {
   "cell_type": "code",
   "execution_count": 1,
   "metadata": {},
   "outputs": [],
   "source": [
    "from dotenv import load_dotenv\n",
    "import os, json\n",
    "import requests\n",
    "\n",
    "load_dotenv()\n",
    "api_key = os.getenv(\"API_KEY\", None)\n",
    "project_id = os.getenv(\"PROJECT_ID\", None)\n",
    "ibm_cloud_iam_url = os.getenv(\"IAM_IBM_CLOUD_URL\", None)\n",
    "\n",
    "creds = {\n",
    "    \"url\"    : \"https://us-south.ml.cloud.ibm.com\",\n",
    "    \"apikey\" : api_key\n",
    "}\n",
    "\n",
    "params = {\n",
    "    \"decoding_method\":\"greedy\",\n",
    "    \"max_new_tokens\":3000,\n",
    "    \"min_new_tokens\":1,\n",
    "    # \"temperature\":0.1,\n",
    "    \"top_k\":50,\n",
    "    \"top_p\":1,\n",
    "     \"repetition_penalty\": 1.1,\n",
    "    \"stop_sequences\":[\"```\",\"<|user|>\",\"<|assistant|>\"],\n",
    "}"
   ]
  },
  {
   "cell_type": "code",
   "execution_count": 2,
   "metadata": {},
   "outputs": [
    {
     "name": "stderr",
     "output_type": "stream",
     "text": [
      "/Library/Frameworks/Python.framework/Versions/3.12/lib/python3.12/site-packages/urllib3/connectionpool.py:1099: InsecureRequestWarning: Unverified HTTPS request is being made to host 'iam.cloud.ibm.com'. Adding certificate verification is strongly advised. See: https://urllib3.readthedocs.io/en/latest/advanced-usage.html#tls-warnings\n",
      "  warnings.warn(\n"
     ]
    }
   ],
   "source": [
    "# Prepare the payload and headers\n",
    "payload = {\n",
    "    \"grant_type\": \"urn:ibm:params:oauth:grant-type:apikey\",\n",
    "    \"apikey\": api_key\n",
    "}\n",
    "headers = {\n",
    "    'Content-Type': \"application/x-www-form-urlencoded\"\n",
    "}\n",
    "\n",
    "# Make a POST request while ignoring SSL certificate verification\n",
    "try:\n",
    "    response = requests.post(f\"https://{ibm_cloud_iam_url}/identity/token\", data=payload, headers=headers, verify=False)\n",
    "    \n",
    "    # Check if the request was successful\n",
    "    response.raise_for_status()\n",
    "\n",
    "    # Parse the JSON response\n",
    "    decoded_json = response.json()\n",
    "    access_token = decoded_json[\"access_token\"]\n",
    "    # print(f\"Access Token: {access_token}\")\n",
    "except requests.exceptions.RequestException as e:\n",
    "    print(f\"An error occurred: {e}\")"
   ]
  },
  {
   "cell_type": "code",
   "execution_count": 3,
   "metadata": {},
   "outputs": [],
   "source": [
    "import requests\n",
    "\n",
    "GRANITE_3B_CODE_INSTRUCT = \"ibm/granite-3b-code-instruct\"\n",
    "GRANITE_8B_CODE_INSTRUCT = \"ibm/granite-8b-code-instruct\"\n",
    "GRANITE_20B_CODE_INSTRUCT = \"ibm/granite-20b-code-instruct\"\n",
    "GRANITE_34B_CODE_INSTRUCT = \"ibm/granite-34b-code-instruct\"\n",
    "GRANITE_3_8B_INSTRUCT = \"ibm/granite-3-8b-instruct\"\n",
    "\n",
    "def watsonx_code_gen(prompt,model_id):\n",
    "\n",
    "    url = \"https://us-south.ml.cloud.ibm.com/ml/v1/text/generation_stream?version=2023-05-29\"\n",
    "\n",
    "    body = {\n",
    "        \"input\": prompt,\n",
    "        \"parameters\": params,\n",
    "        \"model_id\": model_id,\n",
    "        \"project_id\": project_id\n",
    "    }\n",
    "\n",
    "    headers = {\n",
    "        \"Accept\": \"application/json\",\n",
    "        \"Content-Type\": \"application/json\",\n",
    "        \"Authorization\": f\"Bearer {access_token}\"\n",
    "    }\n",
    "\n",
    "    response = requests.post(\n",
    "        url,\n",
    "        headers=headers,\n",
    "        json=body,\n",
    "        stream=True\n",
    "    )\n",
    "\n",
    "    if response.status_code != 200:\n",
    "        raise Exception(\"Non-200 response: \" + str(response.text))\n",
    "\n",
    "    answer = \"\"\n",
    "    # Stream the response\n",
    "    for line in response.iter_lines():\n",
    "        if line:  # Ensure the line is not empty\n",
    "            decoded_line = line.decode(\"utf-8\").strip()\n",
    "            \n",
    "            # Check if the line starts with \"data: \"\n",
    "            if decoded_line.startswith(\"data: \"):\n",
    "                json_data = decoded_line[len(\"data: \"):]  # Remove the \"data: \" prefix\n",
    "                \n",
    "                try:\n",
    "                    # Attempt to load the JSON data\n",
    "                    data = json.loads(json_data)\n",
    "                    generated_text = data.get(\"results\", \"\")\n",
    "                    answer += generated_text[0][\"generated_text\"]\n",
    "                    # print(generated_text[0][\"generated_text\"],end=\"\")  # Print or process the generated text as needed\n",
    "                except json.JSONDecodeError:\n",
    "                    print(\"Failed to decode JSON:\", json_data)\n",
    "                except Exception as e:\n",
    "                    print(\"An error occurred:\", e)\n",
    "\n",
    "    return answer\n"
   ]
  },
  {
   "cell_type": "code",
   "execution_count": 4,
   "metadata": {},
   "outputs": [],
   "source": [
    "from ibm_watsonx_ai.foundation_models import ModelInference\n",
    "from ibm_watsonx_ai.metanames import GenTextParamsMetaNames as GenParams\n",
    "import os\n",
    "from dotenv import load_dotenv\n",
    "\n",
    "\n",
    "load_dotenv()\n",
    "api_key = os.getenv(\"API_KEY\", None)\n",
    "project_id = os.getenv(\"PROJECT_ID\", None)\n",
    "\n",
    "creds = {\n",
    "    \"url\"    : \"https://us-south.ml.cloud.ibm.com\",\n",
    "    \"apikey\" : api_key\n",
    "}\n",
    "\n",
    "params = {\n",
    "    GenParams.DECODING_METHOD:\"greedy\",\n",
    "    GenParams.MAX_NEW_TOKENS:4000,\n",
    "    GenParams.MIN_NEW_TOKENS:1,\n",
    "    # \"temperature\":0.1,\n",
    "    GenParams.TOP_K:50,\n",
    "    GenParams.TOP_P:1,\n",
    "    GenParams.STOP_SEQUENCES:[\"[/INST]\",\"<|user|>\",\"<|endoftext|>\",\"<|assistant|>\"],\n",
    "}\n",
    "\n",
    "model = ModelInference(model_id=\"ibm/granite-3-8b-instruct\", credentials=creds, params=params, project_id=project_id)"
   ]
  },
  {
   "cell_type": "code",
   "execution_count": 6,
   "metadata": {},
   "outputs": [],
   "source": [
    "sample_code = \"\"\"import java.util.*;\n",
    "\n",
    "public class Main {\n",
    "\n",
    "    public static void main(String[] args) {\n",
    "        try (Scanner in = new Scanner(System.in)) {\n",
    "            int n = in.nextInt();\n",
    "            int[] a = new int[n];\n",
    "            for(int a_i=0; a_i < n; a_i++){\n",
    "                a[a_i] = in.nextInt();\n",
    "            }\n",
    "        }\n",
    "    }\n",
    "\n",
    "    public void calculate(int[] a) {\n",
    "        int sum = 0;\n",
    "        for (int i = 0; i < a.length; i++) {\n",
    "            sum += a[i];\n",
    "        }\n",
    "        System.out.println(sum);\n",
    "    }\n",
    "\n",
    "    public void print(int[] a) {\n",
    "        for (int i = 0; i < a.length; i++) {\n",
    "            System.out.println(a[i]);\n",
    "        }\n",
    "    }\n",
    "\n",
    "    public void sort(int[] a) {\n",
    "        Arrays.sort(a);\n",
    "        double median;\n",
    "        if (a.length % 2 == 0) {\n",
    "            median = (a[a.length / 2 - 1] + a[a.length / 2]) / 2.0;\n",
    "        } else {\n",
    "            median = a[a.length / 2];\n",
    "        }\n",
    "    }\n",
    "}\"\"\"\n",
    "\n",
    "bad_code = \"\"\"import java.util.*;\n",
    "\n",
    "public class Main {\n",
    "\n",
    "    public static void main(String[] args) {\n",
    "        try (Scanner in = new Scanner(System.in)) {\n",
    "            int n = in.nextInt();\n",
    "    }\n",
    "\n",
    "    public void calculate(int[] a) {\n",
    "        int sum = 0;\n",
    "        for (int i = 0; \n",
    "        }\n",
    "        System.out.println(sum);\n",
    "    }\n",
    "\n",
    "    public void print(int[] a) {\n",
    "        for (int i = 0; System.out.println(a[i]);\n",
    "        }\n",
    "    }\n",
    "\n",
    "    public void sort(int[] a) {\n",
    "        Arrays.sort(a);\n",
    "        double me\n",
    "        if (a.length % 2 == 0) {\n",
    "           th / 2 - 1] + a[a.length / 2]) / 2.0;\n",
    "        } else {\n",
    "            median = a[a.len\n",
    "        }\n",
    "    }\n",
    "}\"\"\""
   ]
  },
  {
   "cell_type": "code",
   "execution_count": 7,
   "metadata": {},
   "outputs": [],
   "source": [
    "model_id = GRANITE_3_8B_INSTRUCT\n",
    "language = \"java\"\n",
    "documentframework = \"javadoc\"\n",
    "testframework = \"junit\""
   ]
  },
  {
   "cell_type": "markdown",
   "metadata": {},
   "source": [
    "gnerate explanation"
   ]
  },
  {
   "cell_type": "code",
   "execution_count": null,
   "metadata": {},
   "outputs": [],
   "source": [
    "prompt = f\"\"\"<|user|>\n",
    "Please provide a detailed explanation for the following {language} code:\n",
    "-ensure have new line after every full stop.\n",
    "\n",
    "###\n",
    "code: `{sample_code}`\n",
    "<|assistant|>\n",
    "explanation:\n",
    "\"\"\"\n",
    "\n",
    "answer = model.generate_text(prompt)\n",
    "print(answer)"
   ]
  },
  {
   "cell_type": "markdown",
   "metadata": {},
   "source": [
    "generate javadoc"
   ]
  },
  {
   "cell_type": "code",
   "execution_count": null,
   "metadata": {},
   "outputs": [],
   "source": [
    "prompt = f\"\"\"<|user|>\n",
    "generate {documentframework} document for the {language} provided.\n",
    "-generate the {language} code only.\n",
    "{language}: `{sample_code}`\n",
    "<|assistant|>\n",
    "```{language}\"\"\"\n",
    "\n",
    "answer = model.generate_text(prompt).replace(\"```\",\"\")\n",
    "print(answer)"
   ]
  },
  {
   "cell_type": "markdown",
   "metadata": {},
   "source": [
    "score, review and improve"
   ]
  },
  {
   "cell_type": "code",
   "execution_count": null,
   "metadata": {},
   "outputs": [],
   "source": [
    "prompt = f\"\"\"<|user|>\n",
    "you are {language} expert. you need to review the following {language} code. \n",
    "-please understand the {language} code provided in detail.\n",
    "-please review the code in completeness, logic, performance and quality.\n",
    "-make it more object oriented.\n",
    "-give a score out of 10 for the quality of code.\n",
    "-please provide constructive suggestion in detail.\n",
    "-generate the review and suggestion only.\n",
    "{language} code: `{sample_code}`\n",
    "-DONT generate the improve code directly.\n",
    "<|assistant|>\n",
    "score and review:\"\"\"\n",
    "\n",
    "suggestion = model.generate_text(prompt)\n",
    "print(suggestion)"
   ]
  },
  {
   "cell_type": "code",
   "execution_count": null,
   "metadata": {},
   "outputs": [],
   "source": [
    "prompt = f\"\"\"<|user|>\n",
    "improve the {language} provided base on the review provided.\n",
    "-understand the review suggestion in detail.\n",
    "-adopt the review suggestion if applicable.\n",
    "###\n",
    "original {language} code: `{sample_code}`\n",
    "review suggestion: `{suggestion}`\n",
    "<|assistant|>\n",
    "improved {language}\n",
    "```{language}\"\"\"\n",
    "\n",
    "answer = model.generate_text(prompt).replace(\"```\",\"\")\n",
    "print(answer)"
   ]
  },
  {
   "cell_type": "markdown",
   "metadata": {},
   "source": [
    "fix bad code"
   ]
  },
  {
   "cell_type": "code",
   "execution_count": null,
   "metadata": {},
   "outputs": [],
   "source": [
    "prompt = f\"\"\"<|user|>\n",
    "fix the {language} provided.\n",
    "-understand the review suggestion in detail.\n",
    "-identify if any problem.\n",
    "-fix the problem if any.\n",
    "-add explanation as inline comment.\n",
    "\n",
    "###\n",
    "{language}: `{bad_code}`\n",
    "<|assistant|>\n",
    "fixed version with inline comment at the point it fix.\n",
    "```{language}\"\"\"\n",
    "\n",
    "answer = model.generate_text(prompt).replace(\"```\",\"\")\n",
    "print(answer)"
   ]
  },
  {
   "cell_type": "markdown",
   "metadata": {},
   "source": [
    "generate diagram"
   ]
  },
  {
   "cell_type": "code",
   "execution_count": null,
   "metadata": {},
   "outputs": [],
   "source": [
    "prompt = f\"\"\"<|user|>\n",
    "generate diagram for the {language} code provided.\n",
    "-understand the review suggestion in detail.\n",
    "-use simple name for node.\n",
    "-generate in mermaid.\n",
    "-dont repeating.\n",
    "{language}: `{sample_code}`\n",
    "<|assistant|>\n",
    "```mermaid\"\"\"\n",
    "\n",
    "answer = model.generate_text(prompt).replace(\"```\",\"\")\n",
    "print(answer)"
   ]
  },
  {
   "cell_type": "markdown",
   "metadata": {},
   "source": [
    "conversion"
   ]
  },
  {
   "cell_type": "code",
   "execution_count": null,
   "metadata": {},
   "outputs": [],
   "source": [
    "target_language = \"python\"\n",
    "\n",
    "prompt = f\"\"\"<|user|>\n",
    "rewrite the {language} code provided to {target_language}.\n",
    "-understand the code provided in detail.\n",
    "-understand how to map technology and syntax to the target {target_language} langauge.\n",
    "{language}: `{sample_code}`\n",
    "<|assistant|>\n",
    "```{target_language}\"\"\"\n",
    "\n",
    "answer = model.generate_text(prompt).replace(\"```\",\"\")\n",
    "print(answer)"
   ]
  },
  {
   "cell_type": "markdown",
   "metadata": {},
   "source": [
    "generate api definition"
   ]
  },
  {
   "cell_type": "code",
   "execution_count": null,
   "metadata": {},
   "outputs": [],
   "source": [
    "prompt = f\"\"\"<|user|>\n",
    "generate a API definition in swagger for the {language} code provided.\n",
    "{language}: `{sample_code}`\n",
    "<|assistant|>\n",
    "```yaml\n",
    "\"\"\"\n",
    "\n",
    "answer = model.generate_text(prompt).replace(\"```\",\"\")\n",
    "print(answer)"
   ]
  },
  {
   "cell_type": "markdown",
   "metadata": {},
   "source": [
    "generate test case"
   ]
  },
  {
   "cell_type": "code",
   "execution_count": null,
   "metadata": {},
   "outputs": [],
   "source": [
    "prompt = f\"\"\"<|user|>\n",
    "generate Test Cases in {testframework} for the {language} code provided.\n",
    "-focus on boundary cases.\n",
    "-focus on exception handling\n",
    "{language}: `{sample_code}`\n",
    "<|assistant|>\n",
    "```{language}\"\"\"\n",
    "\n",
    "answer = model.generate_text(prompt).replace(\"```\",\"\")\n",
    "print(answer)"
   ]
  }
 ],
 "metadata": {
  "kernelspec": {
   "display_name": "Python 3",
   "language": "python",
   "name": "python3"
  },
  "language_info": {
   "codemirror_mode": {
    "name": "ipython",
    "version": 3
   },
   "file_extension": ".py",
   "mimetype": "text/x-python",
   "name": "python",
   "nbconvert_exporter": "python",
   "pygments_lexer": "ipython3",
   "version": "3.12.5"
  }
 },
 "nbformat": 4,
 "nbformat_minor": 2
}
